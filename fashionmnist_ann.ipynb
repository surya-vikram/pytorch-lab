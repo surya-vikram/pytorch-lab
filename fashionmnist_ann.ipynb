{
  "nbformat": 4,
  "nbformat_minor": 0,
  "metadata": {
    "colab": {
      "provenance": [],
      "gpuType": "T4",
      "authorship_tag": "ABX9TyOifBkzvxDfMYOw+20HHEYH",
      "include_colab_link": true
    },
    "kernelspec": {
      "name": "python3",
      "display_name": "Python 3"
    },
    "language_info": {
      "name": "python"
    },
    "accelerator": "GPU"
  },
  "cells": [
    {
      "cell_type": "markdown",
      "metadata": {
        "id": "view-in-github",
        "colab_type": "text"
      },
      "source": [
        "<a href=\"https://colab.research.google.com/github/surya-vikram/pytorch-lab/blob/main/fashionmnist_ann.ipynb\" target=\"_parent\"><img src=\"https://colab.research.google.com/assets/colab-badge.svg\" alt=\"Open In Colab\"/></a>"
      ]
    },
    {
      "cell_type": "code",
      "execution_count": 74,
      "metadata": {
        "id": "Ru_hQfNVSEeX"
      },
      "outputs": [],
      "source": [
        "import torch\n",
        "from torch import nn\n",
        "from torch.utils.data import DataLoader\n",
        "from torchvision.datasets import FashionMNIST\n",
        "from torchvision.transforms import ToTensor"
      ]
    },
    {
      "cell_type": "code",
      "source": [
        "train_data = FashionMNIST(root='data',\n",
        "                          train=True,\n",
        "                          download=True,\n",
        "                          transform=ToTensor())\n",
        "\n",
        "test_data = FashionMNIST(root='data',\n",
        "                         train=False,\n",
        "                         download=True,\n",
        "                         transform=ToTensor())"
      ],
      "metadata": {
        "id": "XgVl9pfkrAY4"
      },
      "execution_count": 75,
      "outputs": []
    },
    {
      "cell_type": "code",
      "source": [
        "train_dataloader = DataLoader(dataset=train_data, batch_size=64)\n",
        "test_dataloader = DataLoader(dataset=test_data, batch_size=64)"
      ],
      "metadata": {
        "id": "DZTmwxl8sgi_"
      },
      "execution_count": 76,
      "outputs": []
    },
    {
      "cell_type": "code",
      "source": [
        "device = 'cuda' if torch.cuda.is_available() else 'mps' if torch.backends.mps.is_available() else 'cpu'\n",
        "device"
      ],
      "metadata": {
        "colab": {
          "base_uri": "https://localhost:8080/",
          "height": 36
        },
        "id": "qPSp9wF5uXS4",
        "outputId": "8e2c1389-cd2d-4d70-c7ac-dfda6df0444a"
      },
      "execution_count": 77,
      "outputs": [
        {
          "output_type": "execute_result",
          "data": {
            "text/plain": [
              "'cuda'"
            ],
            "application/vnd.google.colaboratory.intrinsic+json": {
              "type": "string"
            }
          },
          "metadata": {},
          "execution_count": 77
        }
      ]
    },
    {
      "cell_type": "code",
      "source": [
        "class NeuralNetwork(nn.Module):\n",
        "    def __init__(self):\n",
        "        super().__init__()\n",
        "        self.input = nn.Flatten()\n",
        "        self.network = nn.Sequential(\n",
        "            nn.Linear(784, 512),\n",
        "            nn.ReLU(),\n",
        "            nn.Linear(512, 256),\n",
        "            nn.ReLU(),\n",
        "            nn.Linear(256, 128),\n",
        "            nn.ReLU(),\n",
        "            nn.Linear(128, 10)\n",
        "        )\n",
        "\n",
        "    def forward(self, x):\n",
        "        x = self.input(x)\n",
        "        logits = self.network(x)\n",
        "        return logits\n",
        "\n",
        "model = NeuralNetwork().to(device)\n",
        "model"
      ],
      "metadata": {
        "colab": {
          "base_uri": "https://localhost:8080/"
        },
        "id": "KEBbUdprvWZS",
        "outputId": "03ecfdaa-0bb4-4633-a104-de7be83d4404"
      },
      "execution_count": 78,
      "outputs": [
        {
          "output_type": "execute_result",
          "data": {
            "text/plain": [
              "NeuralNetwork(\n",
              "  (input): Flatten(start_dim=1, end_dim=-1)\n",
              "  (network): Sequential(\n",
              "    (0): Linear(in_features=784, out_features=512, bias=True)\n",
              "    (1): ReLU()\n",
              "    (2): Linear(in_features=512, out_features=256, bias=True)\n",
              "    (3): ReLU()\n",
              "    (4): Linear(in_features=256, out_features=128, bias=True)\n",
              "    (5): ReLU()\n",
              "    (6): Linear(in_features=128, out_features=10, bias=True)\n",
              "  )\n",
              ")"
            ]
          },
          "metadata": {},
          "execution_count": 78
        }
      ]
    },
    {
      "cell_type": "code",
      "source": [
        "loss_fn = nn.CrossEntropyLoss()\n",
        "optimizer = torch.optim.SGD(model.parameters(), lr=1e-2)"
      ],
      "metadata": {
        "id": "s897e6y7x76U"
      },
      "execution_count": 79,
      "outputs": []
    },
    {
      "cell_type": "code",
      "source": [
        "def train(dataloader, model, loss_fn, optimizer):\n",
        "    size = len(dataloader.dataset)\n",
        "    model.train()\n",
        "    for batch, (X, y) in enumerate(dataloader):\n",
        "        X, y = X.to(device), y.to(device)\n",
        "\n",
        "        # Compute prediction error\n",
        "        pred = model(X)\n",
        "        loss = loss_fn(pred, y)\n",
        "\n",
        "        # Backpropagation\n",
        "        loss.backward()\n",
        "        optimizer.step()\n",
        "        optimizer.zero_grad()\n",
        "\n",
        "        if batch % 100 == 0:\n",
        "            loss, current = loss.item(), (batch + 1) * len(X)\n",
        "            print(f\"loss: {loss:>7f}  [{current:>5d}/{size:>5d}]\")"
      ],
      "metadata": {
        "id": "VEHsEhBzyuAp"
      },
      "execution_count": 80,
      "outputs": []
    },
    {
      "cell_type": "code",
      "source": [
        "def test(dataloader, model, loss_fn):\n",
        "    size = len(dataloader.dataset)\n",
        "    num_batches = len(dataloader)\n",
        "    model.eval()\n",
        "    test_loss, correct = 0, 0\n",
        "    with torch.no_grad():\n",
        "        for X, y in dataloader:\n",
        "            X, y = X.to(device), y.to(device)\n",
        "            pred = model(X)\n",
        "            test_loss += loss_fn(pred, y).item()\n",
        "            correct += (pred.argmax(1) == y).type(torch.float).sum().item()\n",
        "    test_loss /= num_batches\n",
        "    correct /= size\n",
        "    print(f\"Test Error: \\n Accuracy: {(100*correct):>0.1f}%, Avg loss: {test_loss:>8f} \\n\")"
      ],
      "metadata": {
        "id": "LWonknn10ExN"
      },
      "execution_count": 81,
      "outputs": []
    },
    {
      "cell_type": "code",
      "source": [
        "epochs = 8\n",
        "for t in range(epochs):\n",
        "    print(f\"Epoch {t+1}\\n-------------------------------\")\n",
        "    train(train_dataloader, model, loss_fn, optimizer)\n",
        "    test(test_dataloader, model, loss_fn)\n",
        "print(\"Done!\")"
      ],
      "metadata": {
        "colab": {
          "base_uri": "https://localhost:8080/"
        },
        "id": "VmvOcFgU03nN",
        "outputId": "1311119a-7857-4844-ce73-3a9e84f08328"
      },
      "execution_count": 82,
      "outputs": [
        {
          "output_type": "stream",
          "name": "stdout",
          "text": [
            "Epoch 1\n",
            "-------------------------------\n",
            "loss: 2.308545  [   64/60000]\n",
            "loss: 2.279143  [ 6464/60000]\n",
            "loss: 2.224056  [12864/60000]\n",
            "loss: 2.163687  [19264/60000]\n",
            "loss: 1.929593  [25664/60000]\n",
            "loss: 1.590305  [32064/60000]\n",
            "loss: 1.392110  [38464/60000]\n",
            "loss: 1.158264  [44864/60000]\n",
            "loss: 1.103441  [51264/60000]\n",
            "loss: 1.010524  [57664/60000]\n",
            "Test Error: \n",
            " Accuracy: 62.2%, Avg loss: 0.973032 \n",
            "\n",
            "Epoch 2\n",
            "-------------------------------\n",
            "loss: 1.051050  [   64/60000]\n",
            "loss: 1.022230  [ 6464/60000]\n",
            "loss: 0.773208  [12864/60000]\n",
            "loss: 0.892580  [19264/60000]\n",
            "loss: 0.750218  [25664/60000]\n",
            "loss: 0.726471  [32064/60000]\n",
            "loss: 0.844232  [38464/60000]\n",
            "loss: 0.758342  [44864/60000]\n",
            "loss: 0.750991  [51264/60000]\n",
            "loss: 0.743359  [57664/60000]\n",
            "Test Error: \n",
            " Accuracy: 71.7%, Avg loss: 0.767917 \n",
            "\n",
            "Epoch 3\n",
            "-------------------------------\n",
            "loss: 0.717725  [   64/60000]\n",
            "loss: 0.780496  [ 6464/60000]\n",
            "loss: 0.534270  [12864/60000]\n",
            "loss: 0.724184  [19264/60000]\n",
            "loss: 0.641743  [25664/60000]\n",
            "loss: 0.579173  [32064/60000]\n",
            "loss: 0.706543  [38464/60000]\n",
            "loss: 0.668679  [44864/60000]\n",
            "loss: 0.693877  [51264/60000]\n",
            "loss: 0.627157  [57664/60000]\n",
            "Test Error: \n",
            " Accuracy: 75.7%, Avg loss: 0.674853 \n",
            "\n",
            "Epoch 4\n",
            "-------------------------------\n",
            "loss: 0.576913  [   64/60000]\n",
            "loss: 0.670285  [ 6464/60000]\n",
            "loss: 0.437520  [12864/60000]\n",
            "loss: 0.640422  [19264/60000]\n",
            "loss: 0.607548  [25664/60000]\n",
            "loss: 0.524450  [32064/60000]\n",
            "loss: 0.604916  [38464/60000]\n",
            "loss: 0.629566  [44864/60000]\n",
            "loss: 0.648722  [51264/60000]\n",
            "loss: 0.547923  [57664/60000]\n",
            "Test Error: \n",
            " Accuracy: 78.3%, Avg loss: 0.613371 \n",
            "\n",
            "Epoch 5\n",
            "-------------------------------\n",
            "loss: 0.485573  [   64/60000]\n",
            "loss: 0.610007  [ 6464/60000]\n",
            "loss: 0.395001  [12864/60000]\n",
            "loss: 0.585103  [19264/60000]\n",
            "loss: 0.561737  [25664/60000]\n",
            "loss: 0.492028  [32064/60000]\n",
            "loss: 0.549602  [38464/60000]\n",
            "loss: 0.629368  [44864/60000]\n",
            "loss: 0.613705  [51264/60000]\n",
            "loss: 0.491133  [57664/60000]\n",
            "Test Error: \n",
            " Accuracy: 79.5%, Avg loss: 0.574776 \n",
            "\n",
            "Epoch 6\n",
            "-------------------------------\n",
            "loss: 0.418984  [   64/60000]\n",
            "loss: 0.570143  [ 6464/60000]\n",
            "loss: 0.369969  [12864/60000]\n",
            "loss: 0.542859  [19264/60000]\n",
            "loss: 0.506416  [25664/60000]\n",
            "loss: 0.464294  [32064/60000]\n",
            "loss: 0.515154  [38464/60000]\n",
            "loss: 0.631606  [44864/60000]\n",
            "loss: 0.586182  [51264/60000]\n",
            "loss: 0.454627  [57664/60000]\n",
            "Test Error: \n",
            " Accuracy: 80.2%, Avg loss: 0.548520 \n",
            "\n",
            "Epoch 7\n",
            "-------------------------------\n",
            "loss: 0.371719  [   64/60000]\n",
            "loss: 0.539241  [ 6464/60000]\n",
            "loss: 0.346936  [12864/60000]\n",
            "loss: 0.511406  [19264/60000]\n",
            "loss: 0.461914  [25664/60000]\n",
            "loss: 0.446418  [32064/60000]\n",
            "loss: 0.493576  [38464/60000]\n",
            "loss: 0.623411  [44864/60000]\n",
            "loss: 0.563039  [51264/60000]\n",
            "loss: 0.433812  [57664/60000]\n",
            "Test Error: \n",
            " Accuracy: 80.9%, Avg loss: 0.528435 \n",
            "\n",
            "Epoch 8\n",
            "-------------------------------\n",
            "loss: 0.338845  [   64/60000]\n",
            "loss: 0.515605  [ 6464/60000]\n",
            "loss: 0.327162  [12864/60000]\n",
            "loss: 0.486948  [19264/60000]\n",
            "loss: 0.434382  [25664/60000]\n",
            "loss: 0.435261  [32064/60000]\n",
            "loss: 0.475304  [38464/60000]\n",
            "loss: 0.609758  [44864/60000]\n",
            "loss: 0.546049  [51264/60000]\n",
            "loss: 0.421791  [57664/60000]\n",
            "Test Error: \n",
            " Accuracy: 81.3%, Avg loss: 0.514085 \n",
            "\n",
            "Done!\n"
          ]
        }
      ]
    },
    {
      "cell_type": "code",
      "source": [
        "torch.save(model.state_dict(), \"model.pth\")\n",
        "print(\"Saved PyTorch Model State to model.pth\")"
      ],
      "metadata": {
        "colab": {
          "base_uri": "https://localhost:8080/"
        },
        "id": "QNFT9NLR1BJ2",
        "outputId": "5aad21d2-2ddb-4cd5-a84a-65f8e0f72a69"
      },
      "execution_count": 83,
      "outputs": [
        {
          "output_type": "stream",
          "name": "stdout",
          "text": [
            "Saved PyTorch Model State to model.pth\n"
          ]
        }
      ]
    },
    {
      "cell_type": "code",
      "source": [
        "model = NeuralNetwork().to(device)\n",
        "model.load_state_dict(torch.load(\"model.pth\", weights_only=True))"
      ],
      "metadata": {
        "colab": {
          "base_uri": "https://localhost:8080/"
        },
        "id": "t8k-M0HF0_ov",
        "outputId": "466c5231-8cb3-49cd-d0b4-192077b8fc62"
      },
      "execution_count": 84,
      "outputs": [
        {
          "output_type": "execute_result",
          "data": {
            "text/plain": [
              "<All keys matched successfully>"
            ]
          },
          "metadata": {},
          "execution_count": 84
        }
      ]
    },
    {
      "cell_type": "code",
      "source": [
        "classes = [\n",
        "    \"T-shirt/top\",\n",
        "    \"Trouser\",\n",
        "    \"Pullover\",\n",
        "    \"Dress\",\n",
        "    \"Coat\",\n",
        "    \"Sandal\",\n",
        "    \"Shirt\",\n",
        "    \"Sneaker\",\n",
        "    \"Bag\",\n",
        "    \"Ankle boot\",\n",
        "]\n",
        "\n",
        "model.eval()\n",
        "x, y = test_data[-1][0], test_data[-1][1]\n",
        "with torch.no_grad():\n",
        "    x = x.to(device)\n",
        "    pred = model(x)\n",
        "    predicted, actual = classes[pred[0].argmax(0)], classes[y]\n",
        "    print(f'Predicted: \"{predicted}\", Actual: \"{actual}\"')"
      ],
      "metadata": {
        "colab": {
          "base_uri": "https://localhost:8080/"
        },
        "id": "IOrDQ-Lg0-2h",
        "outputId": "999b9135-13e0-4c0b-f160-8bb3efa4842d"
      },
      "execution_count": 86,
      "outputs": [
        {
          "output_type": "stream",
          "name": "stdout",
          "text": [
            "Predicted: \"Sandal\", Actual: \"Sandal\"\n"
          ]
        }
      ]
    }
  ]
}